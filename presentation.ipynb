{
 "cells": [
  {
   "cell_type": "markdown",
   "id": "a755ae79",
   "metadata": {
    "slideshow": {
     "slide_type": "slide"
    }
   },
   "source": [
    "# Electronic Structure Software Development Workshop\n",
    "\n",
    "## Panel Discussion: Tools and Best-Practices for Open-Source Scientific Software\n",
    "\n",
    "[Ross Barnowski](https://bids.berkeley.edu/people/ross-barnowski) `rossbar@berkeley.edu` | [@rossbar](https://github.com/rossbar) on GitHub\n",
    "\n",
    "**Insert Rohit info here**\n",
    "\n",
    "\n",
    "Centre Européen de Calcul Atomique et Moléculaire | October 10th, 2022"
   ]
  }
 ],
 "metadata": {
  "celltoolbar": "Slideshow",
  "kernelspec": {
   "display_name": "Python 3 (ipykernel)",
   "language": "python",
   "name": "python3"
  },
  "language_info": {
   "codemirror_mode": {
    "name": "ipython",
    "version": 3
   },
   "file_extension": ".py",
   "mimetype": "text/x-python",
   "name": "python",
   "nbconvert_exporter": "python",
   "pygments_lexer": "ipython3",
   "version": "3.10.7"
  }
 },
 "nbformat": 4,
 "nbformat_minor": 5
}
